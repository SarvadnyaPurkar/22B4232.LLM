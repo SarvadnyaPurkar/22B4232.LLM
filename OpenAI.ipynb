{
 "cells": [
  {
   "cell_type": "code",
   "execution_count": null,
   "id": "a8ee7ba6-e75e-4abc-927f-1db0bc5de9a7",
   "metadata": {},
   "outputs": [],
   "source": [
    "import openai\n",
    "\n",
    "# Function to set up OpenAI API key\n",
    "def set_openai_api_key(api_key: str):\n",
    "    openai.api_key = api_key\n",
    "\n",
    "# Function to generate a response from OpenAI GPT-4 model\n",
    "def generate_response(prompt: str, model: str = \"gpt-4\", temperature: float = 0.7, max_tokens: int = 150):\n",
    "    try:\n",
    "        response = openai.Completion.create(\n",
    "            model=model,\n",
    "            prompt=prompt,\n",
    "            temperature=temperature,\n",
    "            max_tokens=max_tokens,\n",
    "            top_p=1.0,\n",
    "            frequency_penalty=0.0,\n",
    "            presence_penalty=0.0\n",
    "        )\n",
    "        return response.choices[0].text.strip()\n",
    "    except Exception as e:\n",
    "        return str(e)\n",
    "\n",
    "# Demonstration of the chatbot functionality\n",
    "def chatbot_demo():\n",
    "    print(\"Welcome to the GPT-4 Chatbot!\")\n",
    "    print(\"Type 'exit' to end the conversation.\")\n",
    "    \n",
    "    while True:\n",
    "        user_input = input(\"You: \")\n",
    "        if user_input.lower() == 'exit':\n",
    "            print(\"Chatbot: Goodbye!\")\n",
    "            break\n",
    "        \n",
    "        response = generate_response(user_input)\n",
    "        print(f\"Chatbot: {response}\")\n",
    "\n",
    "# Main function to run the chatbot demo\n",
    "if __name__ == \"__main__\":\n",
    "    # Set your OpenAI API key here\n",
    "    api_key = \"YOUR_OPENAI_API_KEY\"\n",
    "    set_openai_api_key(api_key)\n",
    "    \n",
    "    # Run the chatbot demonstration\n",
    "    chatbot_demo()"
   ]
  }
 ],
 "metadata": {
  "kernelspec": {
   "display_name": "Python 3 (ipykernel)",
   "language": "python",
   "name": "python3"
  },
  "language_info": {
   "codemirror_mode": {
    "name": "ipython",
    "version": 3
   },
   "file_extension": ".py",
   "mimetype": "text/x-python",
   "name": "python",
   "nbconvert_exporter": "python",
   "pygments_lexer": "ipython3",
   "version": "3.12.1"
  }
 },
 "nbformat": 4,
 "nbformat_minor": 5
}
