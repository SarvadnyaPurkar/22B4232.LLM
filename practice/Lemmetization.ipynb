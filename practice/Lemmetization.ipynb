{
 "cells": [
  {
   "cell_type": "code",
   "execution_count": 1,
   "id": "d62daeb5-52c4-4e6e-b826-2b844cb2d07f",
   "metadata": {},
   "outputs": [
    {
     "name": "stderr",
     "output_type": "stream",
     "text": [
      "[nltk_data] Downloading package wordnet to\n",
      "[nltk_data]     C:\\Users\\sarva\\AppData\\Roaming\\nltk_data...\n",
      "[nltk_data]   Package wordnet is already up-to-date!\n"
     ]
    },
    {
     "data": {
      "text/plain": [
       "True"
      ]
     },
     "execution_count": 1,
     "metadata": {},
     "output_type": "execute_result"
    }
   ],
   "source": [
    "#TUTORIAL 3\n",
    "#Wordnet lemmatizer\n",
    "import nltk\n",
    "nltk.download('wordnet')"
   ]
  },
  {
   "cell_type": "code",
   "execution_count": 2,
   "id": "3b0b6a76-768a-4f73-ba26-5afac43fdce9",
   "metadata": {},
   "outputs": [],
   "source": [
    "from nltk.stem import WordNetLemmatizer"
   ]
  },
  {
   "cell_type": "code",
   "execution_count": 3,
   "id": "74978397-7af1-47b3-b13b-18aaa16394b4",
   "metadata": {},
   "outputs": [],
   "source": [
    "lemmatizer = WordNetLemmatizer()"
   ]
  },
  {
   "cell_type": "code",
   "execution_count": 34,
   "id": "f3005368-486c-4d36-bc92-c5445c995db8",
   "metadata": {},
   "outputs": [
    {
     "data": {
      "text/plain": [
       "'go'"
      ]
     },
     "execution_count": 34,
     "metadata": {},
     "output_type": "execute_result"
    }
   ],
   "source": [
    "'''\n",
    "pos = parts of speech\n",
    "POS - Noun - n\n",
    "verb - v\n",
    "adjective = a\n",
    "adverb = r\n",
    "\n",
    "if pos is n then the lemitizer considers teh word as a noun, n is a bydefault pos\n",
    "'''\n",
    "lemmatizer.lemmatize('going',pos = 'v')"
   ]
  },
  {
   "cell_type": "code",
   "execution_count": 5,
   "id": "ea330727-b350-4d61-909d-8288fe042c15",
   "metadata": {},
   "outputs": [],
   "source": [
    "words = [\"eating\",\"eating\",\"EaTs\",\"wriTing\",\"WRITES\",\"programing\",\"programs \",\"history\",\"finally\",\"finals\"] "
   ]
  },
  {
   "cell_type": "code",
   "execution_count": 6,
   "id": "1abbc0d9-763c-4e1c-9f16-2302804189f5",
   "metadata": {},
   "outputs": [
    {
     "name": "stdout",
     "output_type": "stream",
     "text": [
      "eating--->eat\n",
      "eating--->eat\n",
      "EaTs--->EaTs\n",
      "wriTing--->wriTing\n",
      "WRITES--->WRITES\n",
      "programing--->program\n",
      "programs --->programs \n",
      "history--->history\n",
      "finally--->finally\n",
      "finals--->finals\n"
     ]
    }
   ],
   "source": [
    "for word in words:\n",
    "    print(word+\"--->\"+lemmatizer.lemmatize(word, pos=  'v'))"
   ]
  },
  {
   "cell_type": "code",
   "execution_count": 7,
   "id": "a949d4b9-5030-4130-a610-2669b126f650",
   "metadata": {},
   "outputs": [],
   "source": [
    "paragraph = \"\"\"India: A Journey of Achievements and Aspirations\n",
    "India, a land of remarkable diversity and rich heritage, stands as a testament to the confluence of ancient civilizations and modern aspirations. Spanning over 3.287 million square kilometers, it is home to more than 1.3 billion people, making it the world's second-most populous country. India's journey from a colonial past to a global powerhouse is marked by significant achievements in various fields, encompassing science and technology, economy, culture, and social progress.\n",
    "\n",
    "Historical Context and Cultural Heritage\n",
    "India's history dates back to the Indus Valley Civilization, one of the world's earliest urban cultures. With a rich tapestry of dynasties, empires, and kingdoms, India has been a crucible of cultural and intellectual development. Ancient India made pioneering contributions in fields like mathematics, with the concept of zero and the decimal system; medicine, with Ayurveda; and spirituality, with the philosophies of Hinduism, Buddhism, Jainism, and Sikhism. This profound heritage continues to shape the country's cultural ethos and global image.\n",
    "\n",
    "Political Achievements\n",
    "Independence and Democracy\n",
    "India's struggle for independence from British colonial rule culminated in 1947, under the leadership of visionaries like Mahatma Gandhi, Jawaharlal Nehru, and Sardar Vallabhbhai Patel. The adoption of the Constitution in 1950 established India as a sovereign, socialist, secular, and democratic republic. With the world's largest democracy, India has conducted regular, free, and fair elections, upholding the principles of representative governance and the rule of law.\n",
    "\n",
    "Diplomatic and Strategic Milestones\n",
    "On the global stage, India has carved a niche as a responsible and influential player. As a founding member of the Non-Aligned Movement, India championed the cause of newly independent nations during the Cold War. In recent years, India's strategic partnerships with major powers, active participation in international organizations like the United Nations, and leadership in climate action have enhanced its global standing.\n",
    "\n",
    "Economic Transformation\n",
    "Green Revolution and Agricultural Advancements\n",
    "Post-independence, India faced severe food shortages and famines. The Green Revolution of the 1960s transformed agriculture through the adoption of high-yielding varieties, modern irrigation practices, and chemical fertilizers. This revolution not only made India self-sufficient in food production but also turned it into a net exporter of food grains.\n",
    "\n",
    "Industrial and Technological Growth\n",
    "India's economic landscape has undergone a remarkable transformation, especially since the liberalization reforms of the 1990s. The country has emerged as a hub for information technology and software services, with cities like Bangalore and Hyderabad becoming global IT centers. Indian enterprises in pharmaceuticals, automotive, and space technology have made significant strides, contributing to the country's GDP growth and industrial diversification.\n",
    "\n",
    "Scientific and Technological Achievements\n",
    "Space Exploration\n",
    "India's achievements in space exploration are a source of immense national pride. The Indian Space Research Organisation (ISRO) has launched numerous successful missions, including the Chandrayaan and Mangalyaan missions to the Moon and Mars, respectively. The 2014 Mars Orbiter Mission (MOM) made India the first country to reach Mars on its maiden attempt, showcasing its cost-effective and innovative space technology.\n",
    "\n",
    "Nuclear and Defense Capabilities\n",
    "India's advancements in nuclear technology for peaceful purposes, such as energy production and medical applications, are noteworthy. Simultaneously, India's development of a robust defense infrastructure, including indigenous missile systems like Agni and Prithvi, underscores its strategic autonomy and commitment to national security.\n",
    "\n",
    "Social Progress and Human Development\n",
    "Education and Healthcare\n",
    "India has made significant strides in improving literacy rates and expanding access to education. The Right to Education Act, 2009, mandates free and compulsory education for children aged 6 to 14 years, reflecting the country's commitment to universal education. In healthcare, initiatives like the National Health Mission and Ayushman Bharat aim to provide affordable and accessible healthcare to millions, addressing the challenges of public health and wellness.\n",
    "\n",
    "Social Reforms and Inclusivity\n",
    "The Indian government has undertaken numerous social reform measures to promote inclusivity and equity. Programs targeting poverty alleviation, rural development, and women's empowerment have had substantial impacts. Landmark legislation like the reservation system in education and employment for marginalized communities, and the decriminalization of homosexuality, illustrate India's progress towards a more just and inclusive society.\n",
    "\n",
    "Cultural Renaissance and Global Influence\n",
    "India's cultural influence extends far beyond its borders. Bollywood, the world's largest film industry, captivates global audiences with its diverse storytelling and vibrant music. Indian cuisine, yoga, and traditional arts have gained international acclaim, fostering cross-cultural exchanges and enhancing India's soft power.\n",
    "\n",
    "Conclusion\n",
    "India's journey is a narrative of resilience, innovation, and continuous evolution. From its ancient contributions to human knowledge to its modern achievements in science, technology, and social progress, India stands as a beacon of diversity and dynamism. As it navigates the complexities of the 21st century, India's aspirations are anchored in its rich heritage and driven by its commitment to inclusive growth and global cooperation. The country's achievements are not just milestones in its own development but also contributions to the collective progress of humanity.\"\"\""
   ]
  },
  {
   "cell_type": "code",
   "execution_count": 8,
   "id": "1b85d346-dedf-49a0-b914-1536ce0d856e",
   "metadata": {},
   "outputs": [],
   "source": [
    "from nltk.stem import PorterStemmer"
   ]
  },
  {
   "cell_type": "code",
   "execution_count": 9,
   "id": "ef10db28-08fe-424d-a118-ee9a2197f4a4",
   "metadata": {},
   "outputs": [],
   "source": [
    "from nltk.corpus import stopwords"
   ]
  },
  {
   "cell_type": "code",
   "execution_count": 10,
   "id": "bbb8607e-32b1-48a8-a09e-68b4d7775ff5",
   "metadata": {},
   "outputs": [
    {
     "name": "stderr",
     "output_type": "stream",
     "text": [
      "[nltk_data] Downloading package stopwords to\n",
      "[nltk_data]     C:\\Users\\sarva\\AppData\\Roaming\\nltk_data...\n",
      "[nltk_data]   Package stopwords is already up-to-date!\n"
     ]
    },
    {
     "data": {
      "text/plain": [
       "True"
      ]
     },
     "execution_count": 10,
     "metadata": {},
     "output_type": "execute_result"
    }
   ],
   "source": [
    "import nltk\n",
    "nltk.download('stopwords')"
   ]
  },
  {
   "cell_type": "code",
   "execution_count": 11,
   "id": "f9061977-581e-4173-8aa0-a903539672c8",
   "metadata": {},
   "outputs": [
    {
     "data": {
      "text/plain": [
       "['i',\n",
       " 'me',\n",
       " 'my',\n",
       " 'myself',\n",
       " 'we',\n",
       " 'our',\n",
       " 'ours',\n",
       " 'ourselves',\n",
       " 'you',\n",
       " \"you're\",\n",
       " \"you've\",\n",
       " \"you'll\",\n",
       " \"you'd\",\n",
       " 'your',\n",
       " 'yours',\n",
       " 'yourself',\n",
       " 'yourselves',\n",
       " 'he',\n",
       " 'him',\n",
       " 'his',\n",
       " 'himself',\n",
       " 'she',\n",
       " \"she's\",\n",
       " 'her',\n",
       " 'hers',\n",
       " 'herself',\n",
       " 'it',\n",
       " \"it's\",\n",
       " 'its',\n",
       " 'itself',\n",
       " 'they',\n",
       " 'them',\n",
       " 'their',\n",
       " 'theirs',\n",
       " 'themselves',\n",
       " 'what',\n",
       " 'which',\n",
       " 'who',\n",
       " 'whom',\n",
       " 'this',\n",
       " 'that',\n",
       " \"that'll\",\n",
       " 'these',\n",
       " 'those',\n",
       " 'am',\n",
       " 'is',\n",
       " 'are',\n",
       " 'was',\n",
       " 'were',\n",
       " 'be',\n",
       " 'been',\n",
       " 'being',\n",
       " 'have',\n",
       " 'has',\n",
       " 'had',\n",
       " 'having',\n",
       " 'do',\n",
       " 'does',\n",
       " 'did',\n",
       " 'doing',\n",
       " 'a',\n",
       " 'an',\n",
       " 'the',\n",
       " 'and',\n",
       " 'but',\n",
       " 'if',\n",
       " 'or',\n",
       " 'because',\n",
       " 'as',\n",
       " 'until',\n",
       " 'while',\n",
       " 'of',\n",
       " 'at',\n",
       " 'by',\n",
       " 'for',\n",
       " 'with',\n",
       " 'about',\n",
       " 'against',\n",
       " 'between',\n",
       " 'into',\n",
       " 'through',\n",
       " 'during',\n",
       " 'before',\n",
       " 'after',\n",
       " 'above',\n",
       " 'below',\n",
       " 'to',\n",
       " 'from',\n",
       " 'up',\n",
       " 'down',\n",
       " 'in',\n",
       " 'out',\n",
       " 'on',\n",
       " 'off',\n",
       " 'over',\n",
       " 'under',\n",
       " 'again',\n",
       " 'further',\n",
       " 'then',\n",
       " 'once',\n",
       " 'here',\n",
       " 'there',\n",
       " 'when',\n",
       " 'where',\n",
       " 'why',\n",
       " 'how',\n",
       " 'all',\n",
       " 'any',\n",
       " 'both',\n",
       " 'each',\n",
       " 'few',\n",
       " 'more',\n",
       " 'most',\n",
       " 'other',\n",
       " 'some',\n",
       " 'such',\n",
       " 'no',\n",
       " 'nor',\n",
       " 'not',\n",
       " 'only',\n",
       " 'own',\n",
       " 'same',\n",
       " 'so',\n",
       " 'than',\n",
       " 'too',\n",
       " 'very',\n",
       " 's',\n",
       " 't',\n",
       " 'can',\n",
       " 'will',\n",
       " 'just',\n",
       " 'don',\n",
       " \"don't\",\n",
       " 'should',\n",
       " \"should've\",\n",
       " 'now',\n",
       " 'd',\n",
       " 'll',\n",
       " 'm',\n",
       " 'o',\n",
       " 're',\n",
       " 've',\n",
       " 'y',\n",
       " 'ain',\n",
       " 'aren',\n",
       " \"aren't\",\n",
       " 'couldn',\n",
       " \"couldn't\",\n",
       " 'didn',\n",
       " \"didn't\",\n",
       " 'doesn',\n",
       " \"doesn't\",\n",
       " 'hadn',\n",
       " \"hadn't\",\n",
       " 'hasn',\n",
       " \"hasn't\",\n",
       " 'haven',\n",
       " \"haven't\",\n",
       " 'isn',\n",
       " \"isn't\",\n",
       " 'ma',\n",
       " 'mightn',\n",
       " \"mightn't\",\n",
       " 'mustn',\n",
       " \"mustn't\",\n",
       " 'needn',\n",
       " \"needn't\",\n",
       " 'shan',\n",
       " \"shan't\",\n",
       " 'shouldn',\n",
       " \"shouldn't\",\n",
       " 'wasn',\n",
       " \"wasn't\",\n",
       " 'weren',\n",
       " \"weren't\",\n",
       " 'won',\n",
       " \"won't\",\n",
       " 'wouldn',\n",
       " \"wouldn't\"]"
      ]
     },
     "execution_count": 11,
     "metadata": {},
     "output_type": "execute_result"
    }
   ],
   "source": [
    "stopwords.words('english')"
   ]
  },
  {
   "cell_type": "code",
   "execution_count": 12,
   "id": "553e4801-fdac-4949-a867-5475c3ad225b",
   "metadata": {},
   "outputs": [],
   "source": [
    "from nltk.stem import PorterStemmer"
   ]
  },
  {
   "cell_type": "code",
   "execution_count": 13,
   "id": "7f014964-c8dc-400c-8a66-d1953b2819f2",
   "metadata": {},
   "outputs": [],
   "source": [
    "stemmer = PorterStemmer()"
   ]
  },
  {
   "cell_type": "code",
   "execution_count": 14,
   "id": "f3a02d00-3093-4087-a9e0-a28a6adfa9e0",
   "metadata": {},
   "outputs": [],
   "source": [
    "from nltk.tokenize import sent_tokenize\n",
    "from nltk.tokenize import word_tokenize"
   ]
  },
  {
   "cell_type": "code",
   "execution_count": 29,
   "id": "5f822046-8cba-4271-8ff5-25c668814d78",
   "metadata": {},
   "outputs": [],
   "source": [
    "sentences = sent_tokenize(paragraph)"
   ]
  },
  {
   "cell_type": "code",
   "execution_count": 16,
   "id": "ba735502-866c-4194-bcb1-5ae332bdae8f",
   "metadata": {},
   "outputs": [],
   "source": [
    "# remove stopwords and then apply stemming\n",
    "for i in range(len(sentences)):\n",
    "    words = word_tokenize(sentences[i])\n",
    "    words = [stemmer.stem(word) for word in words if word not in set(stopwords.words('english'))]\n",
    "    sentences[i] = ' '.join(words) # converting all the list of words into sentences\n"
   ]
  },
  {
   "cell_type": "code",
   "execution_count": 17,
   "id": "559e7b97-00f0-4483-8cfa-29d9ace33a9a",
   "metadata": {},
   "outputs": [
    {
     "data": {
      "text/plain": [
       "['india : a journey achiev aspir india , land remark divers rich heritag , stand testament confluenc ancient civil modern aspir .',\n",
       " \"span 3.287 million squar kilomet , home 1.3 billion peopl , make world 's second-most popul countri .\",\n",
       " \"india 's journey coloni past global powerhous mark signific achiev variou field , encompass scienc technolog , economi , cultur , social progress .\",\n",
       " \"histor context cultur heritag india 's histori date back indu valley civil , one world 's earliest urban cultur .\",\n",
       " 'with rich tapestri dynasti , empir , kingdom , india crucibl cultur intellectu develop .',\n",
       " 'ancient india made pioneer contribut field like mathemat , concept zero decim system ; medicin , ayurveda ; spiritu , philosophi hinduism , buddhism , jainism , sikhism .',\n",
       " \"thi profound heritag continu shape countri 's cultur etho global imag .\",\n",
       " \"polit achiev independ democraci india 's struggl independ british coloni rule culmin 1947 , leadership visionari like mahatma gandhi , jawaharl nehru , sardar vallabhbhai patel .\",\n",
       " 'the adopt constitut 1950 establish india sovereign , socialist , secular , democrat republ .',\n",
       " \"with world 's largest democraci , india conduct regular , free , fair elect , uphold principl repres govern rule law .\",\n",
       " 'diplomat strateg mileston on global stage , india carv nich respons influenti player .',\n",
       " 'as found member non-align movement , india champion caus newli independ nation cold war .',\n",
       " \"in recent year , india 's strateg partnership major power , activ particip intern organ like unit nation , leadership climat action enhanc global stand .\",\n",
       " 'econom transform green revolut agricultur advanc post-independ , india face sever food shortag famin .',\n",
       " 'the green revolut 1960 transform agricultur adopt high-yield varieti , modern irrig practic , chemic fertil .',\n",
       " 'thi revolut made india self-suffici food product also turn net export food grain .',\n",
       " \"industri technolog growth india 's econom landscap undergon remark transform , especi sinc liber reform 1990 .\",\n",
       " 'the countri emerg hub inform technolog softwar servic , citi like bangalor hyderabad becom global it center .',\n",
       " \"indian enterpris pharmaceut , automot , space technolog made signific stride , contribut countri 's gdp growth industri diversif .\",\n",
       " \"scientif technolog achiev space explor india 's achiev space explor sourc immens nation pride .\",\n",
       " 'the indian space research organis ( isro ) launch numer success mission , includ chandrayaan mangalyaan mission moon mar , respect .',\n",
       " 'the 2014 mar orbit mission ( mom ) made india first countri reach mar maiden attempt , showcas cost-effect innov space technolog .',\n",
       " \"nuclear defens capabl india 's advanc nuclear technolog peac purpos , energi product medic applic , noteworthi .\",\n",
       " \"simultan , india 's develop robust defens infrastructur , includ indigen missil system like agni prithvi , underscor strateg autonomi commit nation secur .\",\n",
       " 'social progress human develop educ healthcar india made signific stride improv literaci rate expand access educ .',\n",
       " \"the right educ act , 2009 , mandat free compulsori educ children age 6 14 year , reflect countri 's commit univers educ .\",\n",
       " 'in healthcar , initi like nation health mission ayushman bharat aim provid afford access healthcar million , address challeng public health well .',\n",
       " 'social reform inclus the indian govern undertaken numer social reform measur promot inclus equiti .',\n",
       " \"program target poverti allevi , rural develop , women 's empower substanti impact .\",\n",
       " \"landmark legisl like reserv system educ employ margin commun , decrimin homosexu , illustr india 's progress toward inclus societi .\",\n",
       " \"cultur renaiss global influenc india 's cultur influenc extend far beyond border .\",\n",
       " \"bollywood , world 's largest film industri , captiv global audienc divers storytel vibrant music .\",\n",
       " \"indian cuisin , yoga , tradit art gain intern acclaim , foster cross-cultur exchang enhanc india 's soft power .\",\n",
       " \"conclus india 's journey narr resili , innov , continu evolut .\",\n",
       " 'from ancient contribut human knowledg modern achiev scienc , technolog , social progress , india stand beacon divers dynam .',\n",
       " \"as navig complex 21st centuri , india 's aspir anchor rich heritag driven commit inclus growth global cooper .\",\n",
       " \"the countri 's achiev mileston develop also contribut collect progress human .\"]"
      ]
     },
     "execution_count": 17,
     "metadata": {},
     "output_type": "execute_result"
    }
   ],
   "source": [
    "sentences"
   ]
  },
  {
   "cell_type": "code",
   "execution_count": 19,
   "id": "e6680d98-e8bc-4a4d-952f-f7ee248623b8",
   "metadata": {},
   "outputs": [],
   "source": [
    "from nltk.stem import SnowballStemmer"
   ]
  },
  {
   "cell_type": "code",
   "execution_count": 20,
   "id": "47a0a946-fcc1-403d-8dab-b3e58cee59e3",
   "metadata": {},
   "outputs": [],
   "source": [
    "sentences = sent_tokenize(paragraph)\n",
    "snowballsstemmer = SnowballStemmer('english')"
   ]
  },
  {
   "cell_type": "code",
   "execution_count": 22,
   "id": "b03d1d86-529d-42ac-94ca-75d40f090362",
   "metadata": {},
   "outputs": [],
   "source": [
    "# remove stopwords and then apply stemming\n",
    "for i in range(len(sentences)):\n",
    "    words = word_tokenize(sentences[i])\n",
    "    words = [snowballsstemmer.stem(word) for word in words if word not in set(stopwords.words('english'))]\n",
    "    sentences[i] = ' '.join(words) # converting all the list of words into sentences\n"
   ]
  },
  {
   "cell_type": "code",
   "execution_count": 23,
   "id": "ed157238-9cf5-46db-bc36-a712019759a9",
   "metadata": {},
   "outputs": [
    {
     "data": {
      "text/plain": [
       "['india : a journey achiev aspir india , land remark divers rich heritag , stand testament confluenc ancient civil modern aspir .',\n",
       " \"span 3.287 million squar kilomet , home 1.3 billion peopl , make world 's second-most popul countri .\",\n",
       " \"india 's journey coloni past global powerhous mark signific achiev various field , encompass scienc technolog , economi , cultur , social progress .\",\n",
       " \"histor context cultur heritag india 's histori date back indus valley civil , one world 's earliest urban cultur .\",\n",
       " 'with rich tapestri dynasti , empir , kingdom , india crucibl cultur intellectu develop .',\n",
       " 'ancient india made pioneer contribut field like mathemat , concept zero decim system ; medicin , ayurveda ; spiritu , philosophi hinduism , buddhism , jainism , sikhism .',\n",
       " \"this profound heritag continu shape countri 's cultur etho global imag .\",\n",
       " \"polit achiev independ democraci india 's struggl independ british coloni rule culmin 1947 , leadership visionari like mahatma gandhi , jawaharl nehru , sardar vallabhbhai patel .\",\n",
       " 'the adopt constitut 1950 establish india sovereign , socialist , secular , democrat republ .',\n",
       " \"with world 's largest democraci , india conduct regular , free , fair elect , uphold principl repres govern rule law .\",\n",
       " 'diplomat strateg mileston on global stage , india carv nich respons influenti player .',\n",
       " 'as found member non-align movement , india champion caus newli independ nation cold war .',\n",
       " \"in recent year , india 's strateg partnership major power , activ particip intern organ like unit nation , leadership climat action enhanc global stand .\",\n",
       " 'econom transform green revolut agricultur advanc post-independ , india face sever food shortag famin .',\n",
       " 'the green revolut 1960s transform agricultur adopt high-yield varieti , modern irrig practic , chemic fertil .',\n",
       " 'this revolut made india self-suffici food product also turn net export food grain .',\n",
       " \"industri technolog growth india 's econom landscap undergon remark transform , especi sinc liber reform 1990s .\",\n",
       " 'the countri emerg hub inform technolog softwar servic , citi like bangalor hyderabad becom global it center .',\n",
       " \"indian enterpris pharmaceut , automot , space technolog made signific stride , contribut countri 's gdp growth industri diversif .\",\n",
       " \"scientif technolog achiev space explor india 's achiev space explor sourc immens nation pride .\",\n",
       " 'the indian space research organis ( isro ) launch numer success mission , includ chandrayaan mangalyaan mission moon mar , respect .',\n",
       " 'the 2014 mar orbit mission ( mom ) made india first countri reach mar maiden attempt , showcas cost-effect innov space technolog .',\n",
       " \"nuclear defens capabl india 's advanc nuclear technolog peac purpos , energi product medic applic , noteworthi .\",\n",
       " \"simultan , india 's develop robust defens infrastructur , includ indigen missil system like agni prithvi , underscor strateg autonomi commit nation secur .\",\n",
       " 'social progress human develop educ healthcar india made signific stride improv literaci rate expand access educ .',\n",
       " \"the right educ act , 2009 , mandat free compulsori educ children age 6 14 year , reflect countri 's commit univers educ .\",\n",
       " 'in healthcar , initi like nation health mission ayushman bharat aim provid afford access healthcar million , address challeng public health well .',\n",
       " 'social reform inclus the indian govern undertaken numer social reform measur promot inclus equiti .',\n",
       " \"program target poverti allevi , rural develop , women 's empower substanti impact .\",\n",
       " \"landmark legisl like reserv system educ employ margin communiti , decrimin homosexu , illustr india 's progress toward inclus societi .\",\n",
       " \"cultur renaiss global influenc india 's cultur influenc extend far beyond border .\",\n",
       " \"bollywood , world 's largest film industri , captiv global audienc divers storytel vibrant music .\",\n",
       " \"indian cuisin , yoga , tradit art gain intern acclaim , foster cross-cultur exchang enhanc india 's soft power .\",\n",
       " \"conclus india 's journey narrat resili , innov , continu evolut .\",\n",
       " 'from ancient contribut human knowledg modern achiev scienc , technolog , social progress , india stand beacon divers dynam .',\n",
       " \"as navig complex 21st centuri , india 's aspir anchor rich heritag driven commit inclus growth global cooper .\",\n",
       " \"the countri 's achiev mileston develop also contribut collect progress human .\"]"
      ]
     },
     "execution_count": 23,
     "metadata": {},
     "output_type": "execute_result"
    }
   ],
   "source": [
    "sentences"
   ]
  },
  {
   "cell_type": "code",
   "execution_count": 25,
   "id": "5b485272-b93e-4540-a1bb-08735abf2c5a",
   "metadata": {},
   "outputs": [],
   "source": [
    "from nltk import WordNetLemmatizer\n",
    "lemmatizer = WordNetLemmatizer()"
   ]
  },
  {
   "cell_type": "code",
   "execution_count": 32,
   "id": "42d126a1-95d6-4ef6-a486-c360678587af",
   "metadata": {},
   "outputs": [],
   "source": [
    "# remove stopwords and then apply stemming\n",
    "for i in range(len(sentences)):\n",
    "    words = word_tokenize(sentences[i])\n",
    "    words = [lemmatizer.lemmatize(word.lower(),pos = 'v') for word in words if word not in set(stopwords.words('english'))]\n",
    "    sentences[i] = ' '.join(words) # converting all the list of words into sentences\n"
   ]
  },
  {
   "cell_type": "code",
   "execution_count": 33,
   "id": "de80508b-747a-4243-ba2e-5acc30bfc20a",
   "metadata": {},
   "outputs": [
    {
     "data": {
      "text/plain": [
       "['india : a journey achievements aspirations india , land remarkable diversity rich heritage , stand testament confluence ancient civilizations modern aspirations .',\n",
       " \"span 3.287 million square kilometers , home 1.3 billion people , make world 's second-most populous country .\",\n",
       " \"india 's journey colonial past global powerhouse mark significant achievements various field , encompass science technology , economy , culture , social progress .\",\n",
       " \"historical context cultural heritage india 's history date back indus valley civilization , one world 's earliest urban culture .\",\n",
       " 'with rich tapestry dynasties , empires , kingdoms , india crucible cultural intellectual development .',\n",
       " 'ancient india make pioneer contributions field like mathematics , concept zero decimal system ; medicine , ayurveda ; spirituality , philosophies hinduism , buddhism , jainism , sikhism .',\n",
       " \"this profound heritage continue shape country 's cultural ethos global image .\",\n",
       " \"political achievements independence democracy india 's struggle independence british colonial rule culminate 1947 , leadership visionaries like mahatma gandhi , jawaharlal nehru , sardar vallabhbhai patel .\",\n",
       " 'the adoption constitution 1950 establish india sovereign , socialist , secular , democratic republic .',\n",
       " \"with world 's largest democracy , india conduct regular , free , fair elections , uphold principles representative governance rule law .\",\n",
       " 'diplomatic strategic milestones on global stage , india carve niche responsible influential player .',\n",
       " 'as find member non-aligned movement , india champion cause newly independent nations cold war .',\n",
       " \"in recent years , india 's strategic partnerships major power , active participation international organizations like unite nations , leadership climate action enhance global stand .\",\n",
       " 'economic transformation green revolution agricultural advancements post-independence , india face severe food shortages famines .',\n",
       " 'the green revolution 1960s transform agriculture adoption high-yielding varieties , modern irrigation practice , chemical fertilizers .',\n",
       " 'this revolution make india self-sufficient food production also turn net exporter food grain .',\n",
       " \"industrial technological growth india 's economic landscape undergo remarkable transformation , especially since liberalization reform 1990s .\",\n",
       " 'the country emerge hub information technology software service , cities like bangalore hyderabad become global it center .',\n",
       " \"indian enterprises pharmaceuticals , automotive , space technology make significant stride , contribute country 's gdp growth industrial diversification .\",\n",
       " \"scientific technological achievements space exploration india 's achievements space exploration source immense national pride .\",\n",
       " 'the indian space research organisation ( isro ) launch numerous successful missions , include chandrayaan mangalyaan missions moon mar , respectively .',\n",
       " 'the 2014 mar orbiter mission ( mom ) make india first country reach mar maiden attempt , showcasing cost-effective innovative space technology .',\n",
       " \"nuclear defense capabilities india 's advancements nuclear technology peaceful purpose , energy production medical applications , noteworthy .\",\n",
       " \"simultaneously , india 's development robust defense infrastructure , include indigenous missile systems like agni prithvi , underscore strategic autonomy commitment national security .\",\n",
       " 'social progress human development education healthcare india make significant stride improve literacy rat expand access education .',\n",
       " \"the right education act , 2009 , mandate free compulsory education children age 6 14 years , reflect country 's commitment universal education .\",\n",
       " 'in healthcare , initiatives like national health mission ayushman bharat aim provide affordable accessible healthcare millions , address challenge public health wellness .',\n",
       " 'social reform inclusivity the indian government undertake numerous social reform measure promote inclusivity equity .',\n",
       " \"program target poverty alleviation , rural development , women 's empowerment substantial impact .\",\n",
       " \"landmark legislation like reservation system education employment marginalize communities , decriminalization homosexuality , illustrate india 's progress towards inclusive society .\",\n",
       " \"cultural renaissance global influence india 's cultural influence extend far beyond border .\",\n",
       " \"bollywood , world 's largest film industry , captivate global audiences diverse storytelling vibrant music .\",\n",
       " \"indian cuisine , yoga , traditional arts gain international acclaim , foster cross-cultural exchange enhance india 's soft power .\",\n",
       " \"conclusion india 's journey narrative resilience , innovation , continuous evolution .\",\n",
       " 'from ancient contributions human knowledge modern achievements science , technology , social progress , india stand beacon diversity dynamism .',\n",
       " \"as navigate complexities 21st century , india 's aspirations anchor rich heritage drive commitment inclusive growth global cooperation .\",\n",
       " \"the country 's achievements milestones development also contributions collective progress humanity .\"]"
      ]
     },
     "execution_count": 33,
     "metadata": {},
     "output_type": "execute_result"
    }
   ],
   "source": [
    "sentences"
   ]
  },
  {
   "cell_type": "code",
   "execution_count": null,
   "id": "3115703c-7f38-449d-8391-ce811b5cced4",
   "metadata": {},
   "outputs": [],
   "source": []
  }
 ],
 "metadata": {
  "kernelspec": {
   "display_name": "Python 3 (ipykernel)",
   "language": "python",
   "name": "python3"
  },
  "language_info": {
   "codemirror_mode": {
    "name": "ipython",
    "version": 3
   },
   "file_extension": ".py",
   "mimetype": "text/x-python",
   "name": "python",
   "nbconvert_exporter": "python",
   "pygments_lexer": "ipython3",
   "version": "3.12.1"
  }
 },
 "nbformat": 4,
 "nbformat_minor": 5
}
