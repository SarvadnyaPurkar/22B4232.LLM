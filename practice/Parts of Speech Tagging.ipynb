{
 "cells": [
  {
   "cell_type": "code",
   "execution_count": 7,
   "id": "4bb60f9e-fa2b-495b-9e3e-98b22fcaf361",
   "metadata": {},
   "outputs": [],
   "source": [
    "# We want to find the POS tag for all the words"
   ]
  },
  {
   "cell_type": "code",
   "execution_count": 8,
   "id": "124916f3-99de-4eb7-8aae-8c747a952ba9",
   "metadata": {},
   "outputs": [],
   "source": [
    "\n",
    "paragraph = '''India: A Journey of Achievements and Aspirations\n",
    "India, a land of remarkable diversity and rich heritage, stands as a testament to the confluence of ancient civilizations and modern aspirations. Spanning over 3.287 million square kilometers, it is home to more than 1.3 billion people, making it the world's second-most populous country. India's journey from a colonial past to a global powerhouse is marked by significant achievements in various fields, encompassing science and technology, economy, culture, and social progress.\n",
    "\n",
    "Historical Context and Cultural Heritage\n",
    "India's history dates back to the Indus Valley Civilization, one of the world's earliest urban cultures. With a rich tapestry of dynasties, empires, and kingdoms, India has been a crucible of cultural and intellectual development. Ancient India made pioneering contributions in fields like mathematics, with the concept of zero and the decimal system; medicine, with Ayurveda; and spirituality, with the philosophies of Hinduism, Buddhism, Jainism, and Sikhism. This profound heritage continues to shape the country's cultural ethos and global image.\n",
    "\n",
    "Political Achievements\n",
    "Independence and Democracy\n",
    "India's struggle for independence from British colonial rule culminated in 1947, under the leadership of visionaries like Mahatma Gandhi, Jawaharlal Nehru, and Sardar Vallabhbhai Patel. The adoption of the Constitution in 1950 established India as a sovereign, socialist, secular, and democratic republic. With the world's largest democracy, India has conducted regular, free, and fair elections, upholding the principles of representative governance and the rule of law.\n",
    "\n",
    "Diplomatic and Strategic Milestones\n",
    "On the global stage, India has carved a niche as a responsible and influential player. As a founding member of the Non-Aligned Movement, India championed the cause of newly independent nations during the Cold War. In recent years, India's strategic partnerships with major powers, active participation in international organizations like the United Nations, and leadership in climate action have enhanced its global standing.\n",
    "\n",
    "Economic Transformation\n",
    "Green Revolution and Agricultural Advancements\n",
    "Post-independence, India faced severe food shortages and famines. The Green Revolution of the 1960s transformed agriculture through the adoption of high-yielding varieties, modern irrigation practices, and chemical fertilizers. This revolution not only made India self-sufficient in food production but also turned it into a net exporter of food grains.\n",
    "\n",
    "Industrial and Technological Growth\n",
    "India's economic landscape has undergone a remarkable transformation, especially since the liberalization reforms of the 1990s. The country has emerged as a hub for information technology and software services, with cities like Bangalore and Hyderabad becoming global IT centers. Indian enterprises in pharmaceuticals, automotive, and space technology have made significant strides, contributing to the country's GDP growth and industrial diversification.\n",
    "\n",
    "Scientific and Technological Achievements\n",
    "Space Exploration\n",
    "India's achievements in space exploration are a source of immense national pride. The Indian Space Research Organisation (ISRO) has launched numerous successful missions, including the Chandrayaan and Mangalyaan missions to the Moon and Mars, respectively. The 2014 Mars Orbiter Mission (MOM) made India the first country to reach Mars on its maiden attempt, showcasing its cost-effective and innovative space technology.\n",
    "\n",
    "Nuclear and Defense Capabilities\n",
    "India's advancements in nuclear technology for peaceful purposes, such as energy production and medical applications, are noteworthy. Simultaneously, India's development of a robust defense infrastructure, including indigenous missile systems like Agni and Prithvi, underscores its strategic autonomy and commitment to national security.\n",
    "\n",
    "Social Progress and Human Development\n",
    "Education and Healthcare\n",
    "India has made significant strides in improving literacy rates and expanding access to education. The Right to Education Act, 2009, mandates free and compulsory education for children aged 6 to 14 years, reflecting the country's commitment to universal education. In healthcare, initiatives like the National Health Mission and Ayushman Bharat aim to provide affordable and accessible healthcare to millions, addressing the challenges of public health and wellness.\n",
    "\n",
    "Social Reforms and Inclusivity\n",
    "The Indian government has undertaken numerous social reform measures to promote inclusivity and equity. Programs targeting poverty alleviation, rural development, and women's empowerment have had substantial impacts. Landmark legislation like the reservation system in education and employment for marginalized communities, and the decriminalization of homosexuality, illustrate India's progress towards a more just and inclusive society.\n",
    "\n",
    "Cultural Renaissance and Global Influence\n",
    "India's cultural influence extends far beyond its borders. Bollywood, the world's largest film industry, captivates global audiences with its diverse storytelling and vibrant music. Indian cuisine, yoga, and traditional arts have gained international acclaim, fostering cross-cultural exchanges and enhancing India's soft power.\n",
    "\n",
    "Conclusion\n",
    "India's journey is a narrative of resilience, innovation, and continuous evolution. From its ancient contributions to human knowledge to its modern achievements in science, technology, and social progress, India stands as a beacon of diversity and dynamism. As it navigates the complexities of the 21st century, India's aspirations are anchored in its rich heritage and driven by its commitment to inclusive growth and global cooperation. The country's achievements are not just milestones in its own development but also contributions to the collective progress of humanity.'''"
   ]
  },
  {
   "cell_type": "code",
   "execution_count": 10,
   "id": "eea4f9c0-d16a-412e-9251-b4c9a08cd9a4",
   "metadata": {},
   "outputs": [],
   "source": [
    "import nltk\n",
    "from nltk.tokenize import sent_tokenize\n",
    "from nltk.tokenize import word_tokenize\n",
    "from nltk.corpus import stopwords\n",
    "sentences = sent_tokenize(paragraph)"
   ]
  },
  {
   "cell_type": "code",
   "execution_count": 13,
   "id": "2f5cbc95-1893-4af5-be7f-218657f76596",
   "metadata": {},
   "outputs": [
    {
     "name": "stderr",
     "output_type": "stream",
     "text": [
      "[nltk_data] Downloading package averaged_perceptron_tagger to\n",
      "[nltk_data]     C:\\Users\\sarva\\AppData\\Roaming\\nltk_data...\n",
      "[nltk_data]   Unzipping taggers\\averaged_perceptron_tagger.zip.\n"
     ]
    },
    {
     "data": {
      "text/plain": [
       "True"
      ]
     },
     "execution_count": 13,
     "metadata": {},
     "output_type": "execute_result"
    }
   ],
   "source": [
    "import nltk\n",
    "nltk.download('averaged_perceptron_tagger')"
   ]
  },
  {
   "cell_type": "code",
   "execution_count": 14,
   "id": "3a2df267-fa58-4510-9ad0-e38f392780af",
   "metadata": {},
   "outputs": [
    {
     "name": "stdout",
     "output_type": "stream",
     "text": [
      "[('India', 'NNP'), (':', ':'), ('A', 'DT'), ('Journey', 'NNP'), ('Achievements', 'NNP'), ('Aspirations', 'NNP'), ('India', 'NNP'), (',', ','), ('land', 'NN'), ('remarkable', 'JJ'), ('diversity', 'NN'), ('rich', 'JJ'), ('heritage', 'NN'), (',', ','), ('stands', 'VBZ'), ('testament', 'JJ'), ('confluence', 'NN'), ('ancient', 'NN'), ('civilizations', 'NNS'), ('modern', 'JJ'), ('aspirations', 'NNS'), ('.', '.')]\n",
      "[('Spanning', 'VBG'), ('3.287', 'CD'), ('million', 'CD'), ('square', 'JJ'), ('kilometers', 'NNS'), (',', ','), ('home', 'NN'), ('1.3', 'CD'), ('billion', 'CD'), ('people', 'NNS'), (',', ','), ('making', 'VBG'), ('world', 'NN'), (\"'s\", 'POS'), ('second-most', 'JJ'), ('populous', 'JJ'), ('country', 'NN'), ('.', '.')]\n",
      "[('India', 'NNP'), (\"'s\", 'POS'), ('journey', 'NN'), ('colonial', 'NN'), ('past', 'IN'), ('global', 'JJ'), ('powerhouse', 'NN'), ('marked', 'VBD'), ('significant', 'JJ'), ('achievements', 'NNS'), ('various', 'JJ'), ('fields', 'NNS'), (',', ','), ('encompassing', 'VBG'), ('science', 'NN'), ('technology', 'NN'), (',', ','), ('economy', 'NN'), (',', ','), ('culture', 'NN'), (',', ','), ('social', 'JJ'), ('progress', 'NN'), ('.', '.')]\n",
      "[('Historical', 'JJ'), ('Context', 'NNP'), ('Cultural', 'NNP'), ('Heritage', 'NNP'), ('India', 'NNP'), (\"'s\", 'POS'), ('history', 'NN'), ('dates', 'VBZ'), ('back', 'RB'), ('Indus', 'NNP'), ('Valley', 'NNP'), ('Civilization', 'NNP'), (',', ','), ('one', 'CD'), ('world', 'NN'), (\"'s\", 'POS'), ('earliest', 'JJS'), ('urban', 'JJ'), ('cultures', 'NNS'), ('.', '.')]\n",
      "[('With', 'IN'), ('rich', 'JJ'), ('tapestry', 'NN'), ('dynasties', 'NNS'), (',', ','), ('empires', 'NNS'), (',', ','), ('kingdoms', 'NNS'), (',', ','), ('India', 'NNP'), ('crucible', 'JJ'), ('cultural', 'JJ'), ('intellectual', 'JJ'), ('development', 'NN'), ('.', '.')]\n",
      "[('Ancient', 'NNP'), ('India', 'NNP'), ('made', 'VBD'), ('pioneering', 'VBG'), ('contributions', 'NNS'), ('fields', 'NNS'), ('like', 'IN'), ('mathematics', 'NNS'), (',', ','), ('concept', 'NN'), ('zero', 'CD'), ('decimal', 'JJ'), ('system', 'NN'), (';', ':'), ('medicine', 'NN'), (',', ','), ('Ayurveda', 'NNP'), (';', ':'), ('spirituality', 'NN'), (',', ','), ('philosophies', 'NNS'), ('Hinduism', 'NNP'), (',', ','), ('Buddhism', 'NNP'), (',', ','), ('Jainism', 'NNP'), (',', ','), ('Sikhism', 'NNP'), ('.', '.')]\n",
      "[('This', 'DT'), ('profound', 'NN'), ('heritage', 'NN'), ('continues', 'VBZ'), ('shape', 'VBP'), ('country', 'NN'), (\"'s\", 'POS'), ('cultural', 'JJ'), ('ethos', 'NN'), ('global', 'JJ'), ('image', 'NN'), ('.', '.')]\n",
      "[('Political', 'JJ'), ('Achievements', 'NNS'), ('Independence', 'NNP'), ('Democracy', 'NNP'), ('India', 'NNP'), (\"'s\", 'POS'), ('struggle', 'NN'), ('independence', 'NN'), ('British', 'JJ'), ('colonial', 'NN'), ('rule', 'NN'), ('culminated', 'VBD'), ('1947', 'CD'), (',', ','), ('leadership', 'NN'), ('visionaries', 'NNS'), ('like', 'IN'), ('Mahatma', 'NNP'), ('Gandhi', 'NNP'), (',', ','), ('Jawaharlal', 'NNP'), ('Nehru', 'NNP'), (',', ','), ('Sardar', 'NNP'), ('Vallabhbhai', 'NNP'), ('Patel', 'NNP'), ('.', '.')]\n",
      "[('The', 'DT'), ('adoption', 'NN'), ('Constitution', 'NN'), ('1950', 'CD'), ('established', 'VBD'), ('India', 'NNP'), ('sovereign', 'NN'), (',', ','), ('socialist', 'NN'), (',', ','), ('secular', 'NN'), (',', ','), ('democratic', 'JJ'), ('republic', 'NN'), ('.', '.')]\n",
      "[('With', 'IN'), ('world', 'NN'), (\"'s\", 'POS'), ('largest', 'JJS'), ('democracy', 'NN'), (',', ','), ('India', 'NNP'), ('conducted', 'VBD'), ('regular', 'JJ'), (',', ','), ('free', 'JJ'), (',', ','), ('fair', 'JJ'), ('elections', 'NNS'), (',', ','), ('upholding', 'JJ'), ('principles', 'NNS'), ('representative', 'VBP'), ('governance', 'NN'), ('rule', 'NN'), ('law', 'NN'), ('.', '.')]\n",
      "[('Diplomatic', 'JJ'), ('Strategic', 'NNP'), ('Milestones', 'NNPS'), ('On', 'IN'), ('global', 'JJ'), ('stage', 'NN'), (',', ','), ('India', 'NNP'), ('carved', 'VBD'), ('niche', 'NN'), ('responsible', 'JJ'), ('influential', 'JJ'), ('player', 'NN'), ('.', '.')]\n",
      "[('As', 'IN'), ('founding', 'JJ'), ('member', 'NN'), ('Non-Aligned', 'JJ'), ('Movement', 'NNP'), (',', ','), ('India', 'NNP'), ('championed', 'VBD'), ('cause', 'NN'), ('newly', 'RB'), ('independent', 'JJ'), ('nations', 'NNS'), ('Cold', 'NNP'), ('War', 'NNP'), ('.', '.')]\n",
      "[('In', 'IN'), ('recent', 'JJ'), ('years', 'NNS'), (',', ','), ('India', 'NNP'), (\"'s\", 'POS'), ('strategic', 'JJ'), ('partnerships', 'NNS'), ('major', 'JJ'), ('powers', 'NNS'), (',', ','), ('active', 'JJ'), ('participation', 'NN'), ('international', 'JJ'), ('organizations', 'NNS'), ('like', 'IN'), ('United', 'NNP'), ('Nations', 'NNP'), (',', ','), ('leadership', 'NN'), ('climate', 'NN'), ('action', 'NN'), ('enhanced', 'VBD'), ('global', 'JJ'), ('standing', 'NN'), ('.', '.')]\n",
      "[('Economic', 'JJ'), ('Transformation', 'NNP'), ('Green', 'NNP'), ('Revolution', 'NNP'), ('Agricultural', 'NNP'), ('Advancements', 'NNP'), ('Post-independence', 'NNP'), (',', ','), ('India', 'NNP'), ('faced', 'VBD'), ('severe', 'JJ'), ('food', 'NN'), ('shortages', 'NNS'), ('famines', 'NNS'), ('.', '.')]\n",
      "[('The', 'DT'), ('Green', 'JJ'), ('Revolution', 'NNP'), ('1960s', 'CD'), ('transformed', 'VBD'), ('agriculture', 'NN'), ('adoption', 'NN'), ('high-yielding', 'JJ'), ('varieties', 'NNS'), (',', ','), ('modern', 'JJ'), ('irrigation', 'NN'), ('practices', 'NNS'), (',', ','), ('chemical', 'NN'), ('fertilizers', 'NNS'), ('.', '.')]\n",
      "[('This', 'DT'), ('revolution', 'NN'), ('made', 'VBD'), ('India', 'NNP'), ('self-sufficient', 'JJ'), ('food', 'NN'), ('production', 'NN'), ('also', 'RB'), ('turned', 'VBD'), ('net', 'JJ'), ('exporter', 'NN'), ('food', 'NN'), ('grains', 'NNS'), ('.', '.')]\n",
      "[('Industrial', 'NNP'), ('Technological', 'NNP'), ('Growth', 'NNP'), ('India', 'NNP'), (\"'s\", 'POS'), ('economic', 'JJ'), ('landscape', 'NN'), ('undergone', 'NN'), ('remarkable', 'JJ'), ('transformation', 'NN'), (',', ','), ('especially', 'RB'), ('since', 'IN'), ('liberalization', 'NN'), ('reforms', 'NNS'), ('1990s', 'CD'), ('.', '.')]\n",
      "[('The', 'DT'), ('country', 'NN'), ('emerged', 'VBD'), ('hub', 'JJ'), ('information', 'NN'), ('technology', 'NN'), ('software', 'NN'), ('services', 'NNS'), (',', ','), ('cities', 'NNS'), ('like', 'IN'), ('Bangalore', 'NNP'), ('Hyderabad', 'NNP'), ('becoming', 'VBG'), ('global', 'JJ'), ('IT', 'NNP'), ('centers', 'NNS'), ('.', '.')]\n",
      "[('Indian', 'JJ'), ('enterprises', 'NNS'), ('pharmaceuticals', 'NNS'), (',', ','), ('automotive', 'JJ'), (',', ','), ('space', 'NN'), ('technology', 'NN'), ('made', 'VBD'), ('significant', 'JJ'), ('strides', 'NNS'), (',', ','), ('contributing', 'VBG'), ('country', 'NN'), (\"'s\", 'POS'), ('GDP', 'NNP'), ('growth', 'NN'), ('industrial', 'JJ'), ('diversification', 'NN'), ('.', '.')]\n",
      "[('Scientific', 'NNP'), ('Technological', 'NNP'), ('Achievements', 'NNP'), ('Space', 'NNP'), ('Exploration', 'NNP'), ('India', 'NNP'), (\"'s\", 'POS'), ('achievements', 'NNS'), ('space', 'NN'), ('exploration', 'NN'), ('source', 'NN'), ('immense', 'JJ'), ('national', 'JJ'), ('pride', 'NN'), ('.', '.')]\n",
      "[('The', 'DT'), ('Indian', 'JJ'), ('Space', 'NNP'), ('Research', 'NNP'), ('Organisation', 'NNP'), ('(', '('), ('ISRO', 'NNP'), (')', ')'), ('launched', 'VBD'), ('numerous', 'JJ'), ('successful', 'JJ'), ('missions', 'NNS'), (',', ','), ('including', 'VBG'), ('Chandrayaan', 'NNP'), ('Mangalyaan', 'NNP'), ('missions', 'NNS'), ('Moon', 'NNP'), ('Mars', 'NNP'), (',', ','), ('respectively', 'RB'), ('.', '.')]\n",
      "[('The', 'DT'), ('2014', 'CD'), ('Mars', 'NNP'), ('Orbiter', 'NNP'), ('Mission', 'NNP'), ('(', '('), ('MOM', 'NNP'), (')', ')'), ('made', 'VBD'), ('India', 'NNP'), ('first', 'JJ'), ('country', 'NN'), ('reach', 'NN'), ('Mars', 'NNP'), ('maiden', 'JJ'), ('attempt', 'NN'), (',', ','), ('showcasing', 'VBG'), ('cost-effective', 'JJ'), ('innovative', 'JJ'), ('space', 'NN'), ('technology', 'NN'), ('.', '.')]\n",
      "[('Nuclear', 'JJ'), ('Defense', 'NNP'), ('Capabilities', 'NNPS'), ('India', 'NNP'), (\"'s\", 'POS'), ('advancements', 'NNS'), ('nuclear', 'JJ'), ('technology', 'NN'), ('peaceful', 'JJ'), ('purposes', 'NNS'), (',', ','), ('energy', 'NN'), ('production', 'NN'), ('medical', 'JJ'), ('applications', 'NNS'), (',', ','), ('noteworthy', 'NN'), ('.', '.')]\n",
      "[('Simultaneously', 'RB'), (',', ','), ('India', 'NNP'), (\"'s\", 'POS'), ('development', 'NN'), ('robust', 'NN'), ('defense', 'NN'), ('infrastructure', 'NN'), (',', ','), ('including', 'VBG'), ('indigenous', 'JJ'), ('missile', 'NN'), ('systems', 'NNS'), ('like', 'IN'), ('Agni', 'NNP'), ('Prithvi', 'NNP'), (',', ','), ('underscores', 'VBZ'), ('strategic', 'JJ'), ('autonomy', 'JJ'), ('commitment', 'JJ'), ('national', 'JJ'), ('security', 'NN'), ('.', '.')]\n",
      "[('Social', 'NNP'), ('Progress', 'NNP'), ('Human', 'NNP'), ('Development', 'NNP'), ('Education', 'NNP'), ('Healthcare', 'NNP'), ('India', 'NNP'), ('made', 'VBD'), ('significant', 'JJ'), ('strides', 'NNS'), ('improving', 'VBG'), ('literacy', 'NN'), ('rates', 'NNS'), ('expanding', 'VBG'), ('access', 'NN'), ('education', 'NN'), ('.', '.')]\n",
      "[('The', 'DT'), ('Right', 'NNP'), ('Education', 'NNP'), ('Act', 'NNP'), (',', ','), ('2009', 'CD'), (',', ','), ('mandates', 'VBZ'), ('free', 'JJ'), ('compulsory', 'NN'), ('education', 'NN'), ('children', 'NNS'), ('aged', 'VBD'), ('6', 'CD'), ('14', 'CD'), ('years', 'NNS'), (',', ','), ('reflecting', 'VBG'), ('country', 'NN'), (\"'s\", 'POS'), ('commitment', 'NN'), ('universal', 'JJ'), ('education', 'NN'), ('.', '.')]\n",
      "[('In', 'IN'), ('healthcare', 'NN'), (',', ','), ('initiatives', 'NNS'), ('like', 'IN'), ('National', 'NNP'), ('Health', 'NNP'), ('Mission', 'NNP'), ('Ayushman', 'NNP'), ('Bharat', 'NNP'), ('aim', 'NN'), ('provide', 'VBP'), ('affordable', 'JJ'), ('accessible', 'JJ'), ('healthcare', 'NN'), ('millions', 'NNS'), (',', ','), ('addressing', 'VBG'), ('challenges', 'NNS'), ('public', 'JJ'), ('health', 'NN'), ('wellness', 'NN'), ('.', '.')]\n",
      "[('Social', 'JJ'), ('Reforms', 'NNP'), ('Inclusivity', 'NNP'), ('The', 'DT'), ('Indian', 'JJ'), ('government', 'NN'), ('undertaken', 'RB'), ('numerous', 'JJ'), ('social', 'JJ'), ('reform', 'NN'), ('measures', 'NNS'), ('promote', 'VBP'), ('inclusivity', 'NN'), ('equity', 'NN'), ('.', '.')]\n",
      "[('Programs', 'NNP'), ('targeting', 'VBG'), ('poverty', 'NN'), ('alleviation', 'NN'), (',', ','), ('rural', 'JJ'), ('development', 'NN'), (',', ','), ('women', 'NNS'), (\"'s\", 'POS'), ('empowerment', 'JJ'), ('substantial', 'JJ'), ('impacts', 'NNS'), ('.', '.')]\n",
      "[('Landmark', 'NNP'), ('legislation', 'NN'), ('like', 'IN'), ('reservation', 'NN'), ('system', 'NN'), ('education', 'JJ'), ('employment', 'NN'), ('marginalized', 'VBN'), ('communities', 'NNS'), (',', ','), ('decriminalization', 'NN'), ('homosexuality', 'NN'), (',', ','), ('illustrate', 'VBP'), ('India', 'NNP'), (\"'s\", 'POS'), ('progress', 'NN'), ('towards', 'NNS'), ('inclusive', 'JJ'), ('society', 'NN'), ('.', '.')]\n",
      "[('Cultural', 'JJ'), ('Renaissance', 'NNP'), ('Global', 'NNP'), ('Influence', 'NNP'), ('India', 'NNP'), (\"'s\", 'POS'), ('cultural', 'JJ'), ('influence', 'NN'), ('extends', 'VBZ'), ('far', 'RB'), ('beyond', 'IN'), ('borders', 'NNS'), ('.', '.')]\n",
      "[('Bollywood', 'NNP'), (',', ','), ('world', 'NN'), (\"'s\", 'POS'), ('largest', 'JJS'), ('film', 'NN'), ('industry', 'NN'), (',', ','), ('captivates', 'VBZ'), ('global', 'JJ'), ('audiences', 'NNS'), ('diverse', 'JJ'), ('storytelling', 'VBG'), ('vibrant', 'JJ'), ('music', 'NN'), ('.', '.')]\n",
      "[('Indian', 'JJ'), ('cuisine', 'NN'), (',', ','), ('yoga', 'NN'), (',', ','), ('traditional', 'JJ'), ('arts', 'NNS'), ('gained', 'VBD'), ('international', 'JJ'), ('acclaim', 'NN'), (',', ','), ('fostering', 'VBG'), ('cross-cultural', 'JJ'), ('exchanges', 'NNS'), ('enhancing', 'VBG'), ('India', 'NNP'), (\"'s\", 'POS'), ('soft', 'JJ'), ('power', 'NN'), ('.', '.')]\n",
      "[('Conclusion', 'NNP'), ('India', 'NNP'), (\"'s\", 'POS'), ('journey', 'NN'), ('narrative', 'JJ'), ('resilience', 'NN'), (',', ','), ('innovation', 'NN'), (',', ','), ('continuous', 'JJ'), ('evolution', 'NN'), ('.', '.')]\n",
      "[('From', 'IN'), ('ancient', 'JJ'), ('contributions', 'NNS'), ('human', 'JJ'), ('knowledge', 'NN'), ('modern', 'JJ'), ('achievements', 'NNS'), ('science', 'NN'), (',', ','), ('technology', 'NN'), (',', ','), ('social', 'JJ'), ('progress', 'NN'), (',', ','), ('India', 'NNP'), ('stands', 'VBZ'), ('beacon', 'JJ'), ('diversity', 'NN'), ('dynamism', 'NN'), ('.', '.')]\n",
      "[('As', 'IN'), ('navigates', 'NNS'), ('complexities', 'NNS'), ('21st', 'JJ'), ('century', 'NN'), (',', ','), ('India', 'NNP'), (\"'s\", 'POS'), ('aspirations', 'NNS'), ('anchored', 'VBD'), ('rich', 'JJ'), ('heritage', 'NN'), ('driven', 'VBN'), ('commitment', 'JJ'), ('inclusive', 'JJ'), ('growth', 'NN'), ('global', 'JJ'), ('cooperation', 'NN'), ('.', '.')]\n",
      "[('The', 'DT'), ('country', 'NN'), (\"'s\", 'POS'), ('achievements', 'NNS'), ('milestones', 'NNS'), ('development', 'NN'), ('also', 'RB'), ('contributions', 'NNS'), ('collective', 'JJ'), ('progress', 'NN'), ('humanity', 'NN'), ('.', '.')]\n"
     ]
    }
   ],
   "source": [
    "# We will find out the POS tag\n",
    "\n",
    "for i in range(len(sentences)):\n",
    "    words = word_tokenize(sentences[i])\n",
    "    words = [word for word in words if word not in set(stopwords.words('english'))]\n",
    "    # sentences[i] = ' '.join(words)\n",
    "    # will not join the words because we want t see what pos tag each word will get\n",
    "    pos_tag = nltk.pos_tag(words)\n",
    "    print(pos_tag) "
   ]
  },
  {
   "cell_type": "code",
   "execution_count": 19,
   "id": "eb531cc4-4006-43b9-a5c4-5c3a1dfd6b61",
   "metadata": {},
   "outputs": [],
   "source": [
    "s = \"Taj Mahal is a beautiful monument\""
   ]
  },
  {
   "cell_type": "code",
   "execution_count": 21,
   "id": "46d86dd2-b790-4d75-8ce8-185f325d1280",
   "metadata": {},
   "outputs": [
    {
     "name": "stdout",
     "output_type": "stream",
     "text": [
      "[('Taj', 'NNP'), ('Mahal', 'NNP'), ('is', 'VBZ'), ('a', 'DT'), ('beautiful', 'JJ'), ('monument', 'NN')]\n"
     ]
    }
   ],
   "source": [
    "print(nltk.pos_tag(\"Taj Mahal is a beautiful monument\".split()))"
   ]
  },
  {
   "cell_type": "code",
   "execution_count": null,
   "id": "3bf2ee40-ea66-4829-8af4-bf6274b7306e",
   "metadata": {},
   "outputs": [],
   "source": []
  }
 ],
 "metadata": {
  "kernelspec": {
   "display_name": "Python 3 (ipykernel)",
   "language": "python",
   "name": "python3"
  },
  "language_info": {
   "codemirror_mode": {
    "name": "ipython",
    "version": 3
   },
   "file_extension": ".py",
   "mimetype": "text/x-python",
   "name": "python",
   "nbconvert_exporter": "python",
   "pygments_lexer": "ipython3",
   "version": "3.12.1"
  }
 },
 "nbformat": 4,
 "nbformat_minor": 5
}
